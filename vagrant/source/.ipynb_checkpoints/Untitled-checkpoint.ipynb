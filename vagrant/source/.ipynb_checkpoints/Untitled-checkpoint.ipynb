{
 "cells": [
  {
   "cell_type": "code",
   "execution_count": 1,
   "metadata": {},
   "outputs": [],
   "source": [
    "import json\n",
    "import time\n",
    "import pandas as pd\n",
    "import requests\n",
    "from flask import jsonify\n",
    "import schedule\n",
    "import time\n",
    "import os\n",
    "import random"
   ]
  },
  {
   "cell_type": "code",
   "execution_count": 2,
   "metadata": {},
   "outputs": [],
   "source": [
    "    _df_review = pd.read_csv(\"review_sample.csv\")\n",
    "    _df_review = _df_review[[\n",
    "                             'stars',\n",
    "                             'user_id',\n",
    "                             'business_id'\n",
    "                             ]]"
   ]
  },
  {
   "cell_type": "code",
   "execution_count": 3,
   "metadata": {},
   "outputs": [],
   "source": [
    "_df_review['stars'] = _df_review['stars'].apply(lambda x: str(x))"
   ]
  },
  {
   "cell_type": "code",
   "execution_count": 15,
   "metadata": {},
   "outputs": [],
   "source": [
    "sample = random.randint(1,5)"
   ]
  },
  {
   "cell_type": "code",
   "execution_count": 16,
   "metadata": {},
   "outputs": [],
   "source": [
    "sample_frame = _df_review.sample(sample)"
   ]
  },
  {
   "cell_type": "code",
   "execution_count": 21,
   "metadata": {},
   "outputs": [
    {
     "name": "stdout",
     "output_type": "stream",
     "text": [
      "1554629518018\t2.0\txgkxRNslQ4JgNr2dWI3EoQ\ty6Bchtf9LO-HivNQgUWD1g\n",
      "1554629518018\t3.0\tggyJIt-qqVjvlI7u7mFEgw\tfzPwuU8295tpDUyCFaIGxw\n",
      "1554629518018\t3.0\t1uUwbiQfayJiGhqx3CjjIg\tOwzyHYmS15-vtTbSvQLORw\n",
      "1554629518018\t4.0\tYcXxGuOywE67jMh9eKX4rw\tqxNKPJfuklMxwPbkHLHeWQ\n",
      "1554629518019\t5.0\tlA1GpTAn8eJJXrWUa2D7DQ\tkpuMEGNsjD4R5VnJa8IWTw\n",
      "\n"
     ]
    }
   ],
   "source": [
    "body = ''\n",
    "for x in range(sample):\n",
    "    body = body + str(current_milli_time())+'\\t'+'\\t'.join(sample_frame[x:x+1].values.flatten()) + '\\n'\n",
    "    \n",
    "print(body)"
   ]
  },
  {
   "cell_type": "code",
   "execution_count": 4,
   "metadata": {},
   "outputs": [],
   "source": [
    "current_milli_time = lambda: int(round(time.time() * 1000))"
   ]
  },
  {
   "cell_type": "code",
   "execution_count": null,
   "metadata": {},
   "outputs": [],
   "source": []
  }
 ],
 "metadata": {
  "kernelspec": {
   "display_name": "Python 3",
   "language": "python",
   "name": "python3"
  },
  "language_info": {
   "codemirror_mode": {
    "name": "ipython",
    "version": 3
   },
   "file_extension": ".py",
   "mimetype": "text/x-python",
   "name": "python",
   "nbconvert_exporter": "python",
   "pygments_lexer": "ipython3",
   "version": "3.7.2"
  }
 },
 "nbformat": 4,
 "nbformat_minor": 2
}
